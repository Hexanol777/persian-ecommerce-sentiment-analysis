{
 "cells": [
  {
   "cell_type": "code",
   "execution_count": null,
   "metadata": {
    "id": "AIFq7QHcrz7D"
   },
   "outputs": [],
   "source": [
    "from __future__ import unicode_literals\n",
    "from hazm import *\n",
    "import tensorflow as tf\n",
    "from keras.models import Sequential\n",
    "import pandas as pd\n",
    "from keras.layers import Dense\n",
    "import numpy as np\n",
    "\n",
    "import re\n",
    "from urlextract import URLExtract\n",
    "import emojis\n",
    "\n",
    "from sklearn.feature_extraction.text import CountVectorizer\n",
    "from sklearn.feature_extraction.text import TfidfVectorizer\n",
    "\n",
    "from sklearn.linear_model import LogisticRegression\n",
    "from sklearn.ensemble import RandomForestClassifier\n",
    "from keras.layers import Dense, Dropout, Activation\n",
    "from keras.optimizers import Adadelta,Adam,RMSprop\n",
    "import np_utils\n",
    "\n",
    "from tqdm import tqdm"
   ]
  },
  {
   "cell_type": "code",
   "execution_count": null,
   "metadata": {},
   "outputs": [],
   "source": [
    "data = pd.read_csv('data/Digikala.csv', on_bad_lines='skip')"
   ]
  },
  {
   "cell_type": "code",
   "execution_count": null,
   "metadata": {},
   "outputs": [],
   "source": [
    "data.head()"
   ]
  },
  {
   "cell_type": "code",
   "execution_count": null,
   "metadata": {},
   "outputs": [],
   "source": [
    "data['Suggestion'].value_counts()"
   ]
  },
  {
   "cell_type": "code",
   "execution_count": null,
   "metadata": {},
   "outputs": [],
   "source": [
    "def replace_values(value):\n",
    "    if value == 2 or value == 3:\n",
    "        return 0\n",
    "    return value\n",
    "\n",
    "data['Suggestion'] = data['Suggestion'].apply(replace_values)"
   ]
  },
  {
   "cell_type": "code",
   "execution_count": null,
   "metadata": {},
   "outputs": [],
   "source": [
    "data['Suggestion'].value_counts()"
   ]
  },
  {
   "cell_type": "code",
   "execution_count": null,
   "metadata": {},
   "outputs": [],
   "source": [
    "def switch_values(value):\n",
    "    if value == 0:\n",
    "        return 1\n",
    "    elif value == 1:\n",
    "        return 0\n",
    "    return value\n",
    "\n",
    "data['Suggestion'] = data['Suggestion'].apply(switch_values)"
   ]
  },
  {
   "cell_type": "code",
   "execution_count": null,
   "metadata": {},
   "outputs": [],
   "source": [
    "data['Suggestion'].value_counts()"
   ]
  },
  {
   "cell_type": "code",
   "execution_count": null,
   "metadata": {
    "id": "uhxQLjd7svuw"
   },
   "outputs": [],
   "source": [
    "def _multiple_replace(mapping, text):\n",
    "    pattern = \"|\".join(map(re.escape, mapping.keys()))\n",
    "    return re.sub(pattern, lambda m: mapping[m.group()], str(text))\n",
    "\n",
    "def convert_fa_numbers(input_str): # arabic numeral to global conversion\n",
    "    mapping = {\n",
    "        '۰': '0',\n",
    "        '۱': '1',\n",
    "        '۲': '2',\n",
    "        '۳': '3',\n",
    "        '۴': '4',\n",
    "        '۵': '5',\n",
    "        '۶': '6',\n",
    "        '۷': '7',\n",
    "        '۸': '8',\n",
    "        '۹': '9',\n",
    "        '.': '.',\n",
    "    }\n",
    "    return _multiple_replace(mapping, input_str)\n",
    "\n",
    "\n",
    "def convert_ar_characters(input_str): # identical char conversion\n",
    "    \n",
    "    mapping = {\n",
    "        'ك': 'ک',\n",
    "        'ى': 'ی',\n",
    "        'ي': 'ی',\n",
    "        'ئ':'ی',\n",
    "        'إ':'ا',\n",
    "        'أ':'ا',\n",
    "        'ة':'ه',\n",
    "        'ؤ':'و'\n",
    "    }\n",
    "    return _multiple_replace(mapping, input_str)\n",
    "\n",
    "\n",
    "def preprocess(text):\n",
    "    extractor = URLExtract()\n",
    "    for url in extractor.gen_urls(text):\n",
    "        text = text.replace(url,'<URL>') # omitting the urls and replacing them with a cons\n",
    "    emj = emojis.get(text)\n",
    "    for i in emj:\n",
    "        if i in text:\n",
    "            text = text.replace(i,'<emoji>') # same as the url for the emojis\n",
    "    text = convert_fa_numbers(text)\n",
    "    text = convert_ar_characters(text)\n",
    "    # regex to detect and replace all smilies in the text with <smiley>\n",
    "    text = re.sub(r\"(:\\s?\\)|:-\\)|\\(\\s?:|\\(-:|:\\'\\)|:\\s?D|8-\\)|:\\s?\\||;\\s?\\)|:-\\*|:-\\||:-\\(|:\\s?P|:-P|:-p|:-b|:-O|:-o|:-0|:-\\@|:\\$|:-\\^|:-&|:-\\*|:-\\+|:-\\~|:-\\`|:-\\>|:-\\<|:-\\}|:-\\{|\\[:\\s?\\]|\\[:\\s?\\]|:\\s?\\]|:\\s?\\[|:\\s?\\}|:\\s?\\{)\",'<smiley>',text)\n",
    "    text = text.lower()\n",
    "    text = text.strip()\n",
    "    text = re.sub(r'[<>#.:()\"\\'!?؟،,@$%^&*_+\\[\\]/]', ' ', text)\n",
    "    text = re.sub(r'[\\s]{2,}', ' ', text)\n",
    "    text = re.sub(r'(\\w)\\1{2,}', r'\\1',text)\n",
    "    if re.search(r'[\\u0600-\\u06FF]', text):\n",
    "        return(text)\n",
    "    else:\n",
    "        return 'None'"
   ]
  },
  {
   "cell_type": "code",
   "execution_count": null,
   "metadata": {},
   "outputs": [],
   "source": [
    "tqdm.pandas()"
   ]
  },
  {
   "cell_type": "code",
   "execution_count": null,
   "metadata": {
    "id": "PRXfgSJKum7t"
   },
   "outputs": [],
   "source": [
    "data['cleaned'] = data['Text'].progress_apply(preprocess)"
   ]
  },
  {
   "cell_type": "code",
   "execution_count": null,
   "metadata": {},
   "outputs": [],
   "source": [
    " data.head()"
   ]
  },
  {
   "cell_type": "code",
   "execution_count": null,
   "metadata": {
    "colab": {
     "base_uri": "https://localhost:8080/",
     "height": 49
    },
    "id": "B4TlV5TMYAAI",
    "outputId": "ff69b746-5b64-4813-caa3-a7e376758757"
   },
   "outputs": [],
   "source": [
    "data = data.dropna()"
   ]
  },
  {
   "cell_type": "code",
   "execution_count": null,
   "metadata": {
    "colab": {
     "base_uri": "https://localhost:8080/"
    },
    "id": "SK0xYDV3a6fu",
    "outputId": "cc808319-fb98-487f-d613-1971cf926921"
   },
   "outputs": [],
   "source": [
    "data.info()"
   ]
  },
  {
   "cell_type": "code",
   "execution_count": null,
   "metadata": {},
   "outputs": [],
   "source": [
    "data.to_csv('data/digikala_preprocessed.csv')"
   ]
  },
  {
   "cell_type": "code",
   "execution_count": null,
   "metadata": {},
   "outputs": [],
   "source": [
    "data = pd.read_csv('data/digikala_preprocessed.csv', on_bad_lines='skip')"
   ]
  },
  {
   "cell_type": "code",
   "execution_count": null,
   "metadata": {},
   "outputs": [],
   "source": [
    "data['Score'].value_counts()"
   ]
  },
  {
   "cell_type": "code",
   "execution_count": null,
   "metadata": {},
   "outputs": [],
   "source": [
    "def replace_values_with_status(df, column_name):\n",
    "    df[column_name] = df[column_name].apply(lambda value: 'UNSAT' if value <= 40 else 'SAT')\n",
    "    return df\n",
    "\n",
    "data = replace_values_with_status(data, 'Score')"
   ]
  },
  {
   "cell_type": "code",
   "execution_count": null,
   "metadata": {},
   "outputs": [],
   "source": [
    "data['Score']"
   ]
  },
  {
   "cell_type": "code",
   "execution_count": null,
   "metadata": {},
   "outputs": [],
   "source": [
    "data['Score'].value_counts()"
   ]
  },
  {
   "cell_type": "code",
   "execution_count": null,
   "metadata": {
    "scrolled": true
   },
   "outputs": [],
   "source": [
    "data.head()"
   ]
  },
  {
   "cell_type": "code",
   "execution_count": null,
   "metadata": {},
   "outputs": [],
   "source": [
    "def set_suggestion(row):\n",
    "    if row['Score'] == 'UNSAT':\n",
    "        return 1\n",
    "    else:\n",
    "        return 0\n",
    "    \n",
    "data['Suggestion'] = data.apply(set_suggestion, axis=1)"
   ]
  },
  {
   "cell_type": "code",
   "execution_count": null,
   "metadata": {},
   "outputs": [],
   "source": [
    "data = data.drop('Unnamed: 0', axis=1)"
   ]
  },
  {
   "cell_type": "code",
   "execution_count": null,
   "metadata": {},
   "outputs": [],
   "source": [
    "data.head()"
   ]
  },
  {
   "cell_type": "code",
   "execution_count": null,
   "metadata": {
    "colab": {
     "base_uri": "https://localhost:8080/",
     "height": 333
    },
    "id": "vLM1dIDosHBu",
    "outputId": "e867e5a9-3481-4379-dbb5-e7388fa03736"
   },
   "outputs": [],
   "source": [
    "count_vectorizer = CountVectorizer()\n",
    "X_count_vectorized = count_vectorizer.fit_transform(data.cleaned).todense()"
   ]
  },
  {
   "cell_type": "code",
   "execution_count": null,
   "metadata": {
    "id": "X98jIgq-7LlO"
   },
   "outputs": [],
   "source": [
    "vectorizer = TfidfVectorizer(min_df=2, max_features= 10000)\n",
    "X_tfidf_vectorized = vectorizer.fit_transform(data.cleaned).todense()"
   ]
  },
  {
   "cell_type": "code",
   "execution_count": null,
   "metadata": {
    "id": "axnht46GsMrE"
   },
   "outputs": [],
   "source": [
    "labels = data['Suggestion'].values"
   ]
  },
  {
   "cell_type": "code",
   "execution_count": null,
   "metadata": {
    "id": "2nPE3riZsQq9"
   },
   "outputs": [],
   "source": [
    "from sklearn.model_selection import train_test_split\n",
    "X_train, X_test, y_train, y_test = train_test_split(X_count_vectorized, labels, test_size=0.2, random_state=42) "
   ]
  },
  {
   "cell_type": "code",
   "execution_count": null,
   "metadata": {
    "id": "iM9HDF1g7kOd"
   },
   "outputs": [],
   "source": [
    "X_tfidf_train, X_tfidf_test, y_tfidf_train, y_tfidf_test = train_test_split(X_tfidf_vectorized, labels, test_size=0.2, random_state=42)"
   ]
  },
  {
   "cell_type": "code",
   "execution_count": null,
   "metadata": {
    "id": "5PbE_h-uw3a3"
   },
   "outputs": [],
   "source": [
    "input_dim = X_tfidf_train.shape"
   ]
  },
  {
   "cell_type": "code",
   "execution_count": null,
   "metadata": {},
   "outputs": [],
   "source": [
    "print(input_dim)"
   ]
  },
  {
   "cell_type": "code",
   "execution_count": null,
   "metadata": {
    "colab": {
     "base_uri": "https://localhost:8080/",
     "height": 477
    },
    "id": "MznQEJNexd0T",
    "outputId": "4be72626-51bf-47a9-9a4c-71440477299c"
   },
   "outputs": [],
   "source": [
    "classifier = LogisticRegression()\n",
    "X_train = np.asarray(X_train)\n",
    "y_train = np.asarray(y_train)\n",
    "X_test = np.asarray(X_test)\n",
    "y_test = np.asarray(y_test)\n",
    "classifier.fit(X_train, y_train)\n",
    "score = classifier.score(X_test, y_test)\n",
    "print(\"Accuracy:\", score)"
   ]
  },
  {
   "cell_type": "code",
   "execution_count": null,
   "metadata": {
    "colab": {
     "base_uri": "https://localhost:8080/"
    },
    "id": "62mnZSEHUo0d",
    "outputId": "0e1091b5-53b8-4546-fa22-1ba5d72294d5"
   },
   "outputs": [],
   "source": [
    "clf = LogisticRegression()\n",
    "X_tfidf_train = np.asarray(X_tfidf_train)\n",
    "y_tfidf_train = np.asarray(y_tfidf_train)\n",
    "X_tfidf_test = np.asarray(X_tfidf_test)\n",
    "y_tfidf_test = np.asarray(y_tfidf_test)\n",
    "clf.fit(X_tfidf_train, y_tfidf_train)\n",
    "tfidf_score = clf.score(X_tfidf_test, y_tfidf_test)\n",
    "print(\"Accuracy:\", tfidf_score)"
   ]
  },
  {
   "cell_type": "code",
   "execution_count": null,
   "metadata": {
    "id": "Oe5GjQr_xe2G"
   },
   "outputs": [],
   "source": [
    "nb_classes = 2\n",
    "batch_size = 32\n",
    "nb_epochs = 10"
   ]
  },
  {
   "cell_type": "code",
   "execution_count": null,
   "metadata": {},
   "outputs": [],
   "source": [
    "from tensorflow.keras.utils import to_categorical"
   ]
  },
  {
   "cell_type": "code",
   "execution_count": null,
   "metadata": {
    "id": "0WedYtwM0Cvl"
   },
   "outputs": [],
   "source": [
    "y_tfidf_train_cat = to_categorical(y_tfidf_train,)"
   ]
  },
  {
   "cell_type": "code",
   "execution_count": null,
   "metadata": {
    "id": "R8uq2mQ6xtTG"
   },
   "outputs": [],
   "source": [
    "model = Sequential()\n",
    "\n",
    "model.add(Dense(1000,input_shape= (input_dim[1],)))\n",
    "model.add(Activation('relu'))\n",
    "model.add(Dropout(0.5))\n",
    "model.add(Dense(500))\n",
    "\n",
    "model.add(Activation('relu'))\n",
    "\n",
    "model.add(Dropout(0.5))\n",
    "\n",
    "model.add(Dense(50))\n",
    "\n",
    "model.add(Activation('relu'))\n",
    "\n",
    "model.add(Dropout(0.5))\n",
    "\n",
    "model.add(Dense(nb_classes))\n",
    "model.add(Activation('softmax'))\n",
    "\n",
    "model.compile(loss='categorical_crossentropy', optimizer='adam')"
   ]
  },
  {
   "cell_type": "code",
   "execution_count": null,
   "metadata": {
    "id": "M-z2tvGS3hHd"
   },
   "outputs": [],
   "source": [
    "tf.config.run_functions_eagerly(True)"
   ]
  },
  {
   "cell_type": "code",
   "execution_count": null,
   "metadata": {
    "colab": {
     "base_uri": "https://localhost:8080/"
    },
    "id": "Au7_LegeyEc8",
    "outputId": "46388074-51e5-4c5a-918a-fa050b77d1a9"
   },
   "outputs": [],
   "source": [
    "model.fit(X_tfidf_train, y_tfidf_train_cat, batch_size=batch_size, epochs=nb_epochs,verbose=2)"
   ]
  },
  {
   "cell_type": "code",
   "execution_count": null,
   "metadata": {
    "colab": {
     "base_uri": "https://localhost:8080/"
    },
    "id": "9hsVo2k53yaB",
    "outputId": "655caf59-ca6c-4e21-cce2-375b9f52424e"
   },
   "outputs": [],
   "source": [
    "y_test_pred = model.predict(X_tfidf_test)\n",
    "y_test_predclass = np.argmax(y_test_pred, axis=1)\n",
    "y_trian_pred = model.predict(X_tfidf_train)\n",
    "y_train_predclass = np.argmax(y_trian_pred, axis=1)"
   ]
  },
  {
   "cell_type": "code",
   "execution_count": null,
   "metadata": {
    "colab": {
     "base_uri": "https://localhost:8080/"
    },
    "id": "AwavY-uA4Pks",
    "outputId": "929a071b-03ab-4380-f4d4-c6ec1df053bd"
   },
   "outputs": [],
   "source": [
    "from sklearn.metrics import accuracy_score,classification_report\n",
    "print (\"nDeep Neural Network - Test accuracy:\",(round(accuracy_score(y_tfidf_test, y_test_predclass),4)*100))\n",
    "print (\"nDeep Neural Network - Train accuracy:\",(round(accuracy_score(y_tfidf_train, y_train_predclass),4)*100))"
   ]
  },
  {
   "cell_type": "code",
   "execution_count": null,
   "metadata": {},
   "outputs": [],
   "source": [
    "from tensorflow.keras.models import save_model\n",
    "\n",
    "model.save('model/digikala_keras_model.h5')"
   ]
  },
  {
   "cell_type": "code",
   "execution_count": null,
   "metadata": {
    "id": "CX9xLlY_WBCI"
   },
   "outputs": [],
   "source": [
    "X_pred = vectorizer.transform([preprocess('اصلا پیشنهاد نمیشود')]).todense()"
   ]
  },
  {
   "cell_type": "code",
   "execution_count": null,
   "metadata": {
    "colab": {
     "base_uri": "https://localhost:8080/"
    },
    "id": "RoU2n0MNWbXW",
    "outputId": "e0512765-6eb8-4851-e974-543c4130c8bd"
   },
   "outputs": [],
   "source": [
    "model.predict(X_pred)"
   ]
  }
 ],
 "metadata": {
  "accelerator": "TPU",
  "colab": {
   "provenance": []
  },
  "gpuClass": "standard",
  "kernelspec": {
   "display_name": "Python 3 (ipykernel)",
   "language": "python",
   "name": "python3"
  },
  "language_info": {
   "codemirror_mode": {
    "name": "ipython",
    "version": 3
   },
   "file_extension": ".py",
   "mimetype": "text/x-python",
   "name": "python",
   "nbconvert_exporter": "python",
   "pygments_lexer": "ipython3",
   "version": "3.11.2"
  }
 },
 "nbformat": 4,
 "nbformat_minor": 1
}
