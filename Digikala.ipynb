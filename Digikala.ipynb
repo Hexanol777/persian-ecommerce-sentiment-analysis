{
 "cells": [
  {
   "cell_type": "code",
   "execution_count": 1,
   "metadata": {
    "id": "AIFq7QHcrz7D"
   },
   "outputs": [],
   "source": [
    "from __future__ import unicode_literals\n",
    "from hazm import *\n",
    "import tensorflow as tf\n",
    "from keras.models import Sequential\n",
    "import pandas as pd\n",
    "from keras.layers import Dense\n",
    "import numpy as np\n",
    "\n",
    "import re\n",
    "from urlextract import URLExtract\n",
    "import emojis\n",
    "\n",
    "from sklearn.feature_extraction.text import CountVectorizer\n",
    "from sklearn.feature_extraction.text import TfidfVectorizer\n",
    "\n",
    "from sklearn.linear_model import LogisticRegression\n",
    "from sklearn.ensemble import RandomForestClassifier\n",
    "from keras.layers import Dense, Dropout, Activation\n",
    "from keras.optimizers import Adadelta,Adam,RMSprop\n",
    "import np_utils\n",
    "\n",
    "from tqdm import tqdm"
   ]
  },
  {
   "cell_type": "code",
   "execution_count": 2,
   "metadata": {},
   "outputs": [],
   "source": [
    "data = pd.read_csv('data/Digikala.csv', on_bad_lines='skip')"
   ]
  },
  {
   "cell_type": "code",
   "execution_count": 3,
   "metadata": {},
   "outputs": [
    {
     "data": {
      "text/html": [
       "<div>\n",
       "<style scoped>\n",
       "    .dataframe tbody tr th:only-of-type {\n",
       "        vertical-align: middle;\n",
       "    }\n",
       "\n",
       "    .dataframe tbody tr th {\n",
       "        vertical-align: top;\n",
       "    }\n",
       "\n",
       "    .dataframe thead th {\n",
       "        text-align: right;\n",
       "    }\n",
       "</style>\n",
       "<table border=\"1\" class=\"dataframe\">\n",
       "  <thead>\n",
       "    <tr style=\"text-align: right;\">\n",
       "      <th></th>\n",
       "      <th>Text</th>\n",
       "      <th>Score</th>\n",
       "      <th>Suggestion</th>\n",
       "    </tr>\n",
       "  </thead>\n",
       "  <tbody>\n",
       "    <tr>\n",
       "      <th>0</th>\n",
       "      <td>این اولین تجربه من برای خرید ایفون هست   امروز...</td>\n",
       "      <td>100</td>\n",
       "      <td>1</td>\n",
       "    </tr>\n",
       "    <tr>\n",
       "      <th>1</th>\n",
       "      <td>خرید این محصول رو توصیه میکنم</td>\n",
       "      <td>84</td>\n",
       "      <td>1</td>\n",
       "    </tr>\n",
       "    <tr>\n",
       "      <th>2</th>\n",
       "      <td>1 ساله این گوشی رو دارم   هیچ نقطه ضعفی ازش ند...</td>\n",
       "      <td>60</td>\n",
       "      <td>1</td>\n",
       "    </tr>\n",
       "    <tr>\n",
       "      <th>3</th>\n",
       "      <td>سلام خدمت دوستان این گوشی از همه نظر عالی  کیف...</td>\n",
       "      <td>96</td>\n",
       "      <td>1</td>\n",
       "    </tr>\n",
       "    <tr>\n",
       "      <th>4</th>\n",
       "      <td>سلام دوستانی که نگران شکستن صفحه نمایش هستند ا...</td>\n",
       "      <td>92</td>\n",
       "      <td>1</td>\n",
       "    </tr>\n",
       "  </tbody>\n",
       "</table>\n",
       "</div>"
      ],
      "text/plain": [
       "                                                Text  Score  Suggestion\n",
       "0  این اولین تجربه من برای خرید ایفون هست   امروز...    100           1\n",
       "1                     خرید این محصول رو توصیه میکنم      84           1\n",
       "2  1 ساله این گوشی رو دارم   هیچ نقطه ضعفی ازش ند...     60           1\n",
       "3  سلام خدمت دوستان این گوشی از همه نظر عالی  کیف...     96           1\n",
       "4  سلام دوستانی که نگران شکستن صفحه نمایش هستند ا...     92           1"
      ]
     },
     "execution_count": 3,
     "metadata": {},
     "output_type": "execute_result"
    }
   ],
   "source": [
    "data.head()"
   ]
  },
  {
   "cell_type": "code",
   "execution_count": 4,
   "metadata": {},
   "outputs": [
    {
     "data": {
      "text/plain": [
       "1    2382\n",
       "3     460\n",
       "2     419\n",
       "Name: Suggestion, dtype: int64"
      ]
     },
     "execution_count": 4,
     "metadata": {},
     "output_type": "execute_result"
    }
   ],
   "source": [
    "data['Suggestion'].value_counts()"
   ]
  },
  {
   "cell_type": "code",
   "execution_count": 5,
   "metadata": {},
   "outputs": [],
   "source": [
    "def replace_values(value):\n",
    "    if value == 2 or value == 3:\n",
    "        return 0\n",
    "    return value\n",
    "\n",
    "data['Suggestion'] = data['Suggestion'].apply(replace_values)"
   ]
  },
  {
   "cell_type": "code",
   "execution_count": 6,
   "metadata": {},
   "outputs": [
    {
     "data": {
      "text/plain": [
       "1    2382\n",
       "0     879\n",
       "Name: Suggestion, dtype: int64"
      ]
     },
     "execution_count": 6,
     "metadata": {},
     "output_type": "execute_result"
    }
   ],
   "source": [
    "data['Suggestion'].value_counts()"
   ]
  },
  {
   "cell_type": "code",
   "execution_count": 7,
   "metadata": {},
   "outputs": [],
   "source": [
    "def switch_values(value):\n",
    "    if value == 0:\n",
    "        return 1\n",
    "    elif value == 1:\n",
    "        return 0\n",
    "    return value\n",
    "\n",
    "data['Suggestion'] = data['Suggestion'].apply(switch_values)"
   ]
  },
  {
   "cell_type": "code",
   "execution_count": 8,
   "metadata": {},
   "outputs": [
    {
     "data": {
      "text/plain": [
       "0    2382\n",
       "1     879\n",
       "Name: Suggestion, dtype: int64"
      ]
     },
     "execution_count": 8,
     "metadata": {},
     "output_type": "execute_result"
    }
   ],
   "source": [
    "data['Suggestion'].value_counts()"
   ]
  },
  {
   "cell_type": "code",
   "execution_count": 9,
   "metadata": {
    "id": "uhxQLjd7svuw"
   },
   "outputs": [],
   "source": [
    "def _multiple_replace(mapping, text):\n",
    "    pattern = \"|\".join(map(re.escape, mapping.keys()))\n",
    "    return re.sub(pattern, lambda m: mapping[m.group()], str(text))\n",
    "\n",
    "def convert_fa_numbers(input_str): # arabic numeral to global conversion\n",
    "    mapping = {\n",
    "        '۰': '0',\n",
    "        '۱': '1',\n",
    "        '۲': '2',\n",
    "        '۳': '3',\n",
    "        '۴': '4',\n",
    "        '۵': '5',\n",
    "        '۶': '6',\n",
    "        '۷': '7',\n",
    "        '۸': '8',\n",
    "        '۹': '9',\n",
    "        '.': '.',\n",
    "    }\n",
    "    return _multiple_replace(mapping, input_str)\n",
    "\n",
    "\n",
    "def convert_ar_characters(input_str): # identical char conversion\n",
    "    \n",
    "    mapping = {\n",
    "        'ك': 'ک',\n",
    "        'ى': 'ی',\n",
    "        'ي': 'ی',\n",
    "        'ئ':'ی',\n",
    "        'إ':'ا',\n",
    "        'أ':'ا',\n",
    "        'ة':'ه',\n",
    "        'ؤ':'و'\n",
    "    }\n",
    "    return _multiple_replace(mapping, input_str)\n",
    "\n",
    "\n",
    "def preprocess(text):\n",
    "    extractor = URLExtract()\n",
    "    for url in extractor.gen_urls(text):\n",
    "        text = text.replace(url,'<URL>') # omitting the urls and replacing them with a cons\n",
    "    emj = emojis.get(text)\n",
    "    for i in emj:\n",
    "        if i in text:\n",
    "            text = text.replace(i,'<emoji>') # same as the url for the emojis\n",
    "    text = convert_fa_numbers(text)\n",
    "    text = convert_ar_characters(text)\n",
    "    # regex to detect and replace all smilies in the text with <smiley>\n",
    "    text = re.sub(r\"(:\\s?\\)|:-\\)|\\(\\s?:|\\(-:|:\\'\\)|:\\s?D|8-\\)|:\\s?\\||;\\s?\\)|:-\\*|:-\\||:-\\(|:\\s?P|:-P|:-p|:-b|:-O|:-o|:-0|:-\\@|:\\$|:-\\^|:-&|:-\\*|:-\\+|:-\\~|:-\\`|:-\\>|:-\\<|:-\\}|:-\\{|\\[:\\s?\\]|\\[:\\s?\\]|:\\s?\\]|:\\s?\\[|:\\s?\\}|:\\s?\\{)\",'<smiley>',text)\n",
    "    text = text.lower()\n",
    "    text = text.strip()\n",
    "    text = re.sub(r'[<>#.:()\"\\'!?؟،,@$%^&*_+\\[\\]/]', ' ', text)\n",
    "    text = re.sub(r'[\\s]{2,}', ' ', text)\n",
    "    text = re.sub(r'(\\w)\\1{2,}', r'\\1',text)\n",
    "    if re.search(r'[\\u0600-\\u06FF]', text):\n",
    "        return(text)\n",
    "    else:\n",
    "        return 'None'"
   ]
  },
  {
   "cell_type": "code",
   "execution_count": 10,
   "metadata": {},
   "outputs": [],
   "source": [
    "tqdm.pandas()"
   ]
  },
  {
   "cell_type": "code",
   "execution_count": 11,
   "metadata": {
    "id": "PRXfgSJKum7t"
   },
   "outputs": [
    {
     "name": "stderr",
     "output_type": "stream",
     "text": [
      "100%|██████████████████████████████████████████████████████████████████████████████| 3261/3261 [00:43<00:00, 75.53it/s]\n"
     ]
    }
   ],
   "source": [
    "data['cleaned'] = data['Text'].progress_apply(preprocess)"
   ]
  },
  {
   "cell_type": "code",
   "execution_count": 12,
   "metadata": {},
   "outputs": [
    {
     "data": {
      "text/html": [
       "<div>\n",
       "<style scoped>\n",
       "    .dataframe tbody tr th:only-of-type {\n",
       "        vertical-align: middle;\n",
       "    }\n",
       "\n",
       "    .dataframe tbody tr th {\n",
       "        vertical-align: top;\n",
       "    }\n",
       "\n",
       "    .dataframe thead th {\n",
       "        text-align: right;\n",
       "    }\n",
       "</style>\n",
       "<table border=\"1\" class=\"dataframe\">\n",
       "  <thead>\n",
       "    <tr style=\"text-align: right;\">\n",
       "      <th></th>\n",
       "      <th>Text</th>\n",
       "      <th>Score</th>\n",
       "      <th>Suggestion</th>\n",
       "      <th>cleaned</th>\n",
       "    </tr>\n",
       "  </thead>\n",
       "  <tbody>\n",
       "    <tr>\n",
       "      <th>0</th>\n",
       "      <td>این اولین تجربه من برای خرید ایفون هست   امروز...</td>\n",
       "      <td>100</td>\n",
       "      <td>0</td>\n",
       "      <td>این اولین تجربه من برای خرید ایفون هست امروز ب...</td>\n",
       "    </tr>\n",
       "    <tr>\n",
       "      <th>1</th>\n",
       "      <td>خرید این محصول رو توصیه میکنم</td>\n",
       "      <td>84</td>\n",
       "      <td>0</td>\n",
       "      <td>خرید این محصول رو توصیه میکنم</td>\n",
       "    </tr>\n",
       "    <tr>\n",
       "      <th>2</th>\n",
       "      <td>1 ساله این گوشی رو دارم   هیچ نقطه ضعفی ازش ند...</td>\n",
       "      <td>60</td>\n",
       "      <td>0</td>\n",
       "      <td>1 ساله این گوشی رو دارم هیچ نقطه ضعفی ازش ندیدم</td>\n",
       "    </tr>\n",
       "    <tr>\n",
       "      <th>3</th>\n",
       "      <td>سلام خدمت دوستان این گوشی از همه نظر عالی  کیف...</td>\n",
       "      <td>96</td>\n",
       "      <td>0</td>\n",
       "      <td>سلام خدمت دوستان این گوشی از همه نظر عالی کیفی...</td>\n",
       "    </tr>\n",
       "    <tr>\n",
       "      <th>4</th>\n",
       "      <td>سلام دوستانی که نگران شکستن صفحه نمایش هستند ا...</td>\n",
       "      <td>92</td>\n",
       "      <td>0</td>\n",
       "      <td>سلام دوستانی که نگران شکستن صفحه نمایش هستند ا...</td>\n",
       "    </tr>\n",
       "  </tbody>\n",
       "</table>\n",
       "</div>"
      ],
      "text/plain": [
       "                                                Text  Score  Suggestion  \\\n",
       "0  این اولین تجربه من برای خرید ایفون هست   امروز...    100           0   \n",
       "1                     خرید این محصول رو توصیه میکنم      84           0   \n",
       "2  1 ساله این گوشی رو دارم   هیچ نقطه ضعفی ازش ند...     60           0   \n",
       "3  سلام خدمت دوستان این گوشی از همه نظر عالی  کیف...     96           0   \n",
       "4  سلام دوستانی که نگران شکستن صفحه نمایش هستند ا...     92           0   \n",
       "\n",
       "                                             cleaned  \n",
       "0  این اولین تجربه من برای خرید ایفون هست امروز ب...  \n",
       "1                      خرید این محصول رو توصیه میکنم  \n",
       "2    1 ساله این گوشی رو دارم هیچ نقطه ضعفی ازش ندیدم  \n",
       "3  سلام خدمت دوستان این گوشی از همه نظر عالی کیفی...  \n",
       "4  سلام دوستانی که نگران شکستن صفحه نمایش هستند ا...  "
      ]
     },
     "execution_count": 12,
     "metadata": {},
     "output_type": "execute_result"
    }
   ],
   "source": [
    " data.head()"
   ]
  },
  {
   "cell_type": "code",
   "execution_count": 13,
   "metadata": {
    "colab": {
     "base_uri": "https://localhost:8080/",
     "height": 49
    },
    "id": "B4TlV5TMYAAI",
    "outputId": "ff69b746-5b64-4813-caa3-a7e376758757"
   },
   "outputs": [],
   "source": [
    "data = data.dropna()"
   ]
  },
  {
   "cell_type": "code",
   "execution_count": 14,
   "metadata": {
    "colab": {
     "base_uri": "https://localhost:8080/"
    },
    "id": "SK0xYDV3a6fu",
    "outputId": "cc808319-fb98-487f-d613-1971cf926921"
   },
   "outputs": [
    {
     "name": "stdout",
     "output_type": "stream",
     "text": [
      "<class 'pandas.core.frame.DataFrame'>\n",
      "RangeIndex: 3261 entries, 0 to 3260\n",
      "Data columns (total 4 columns):\n",
      " #   Column      Non-Null Count  Dtype \n",
      "---  ------      --------------  ----- \n",
      " 0   Text        3261 non-null   object\n",
      " 1   Score       3261 non-null   int64 \n",
      " 2   Suggestion  3261 non-null   int64 \n",
      " 3   cleaned     3261 non-null   object\n",
      "dtypes: int64(2), object(2)\n",
      "memory usage: 102.0+ KB\n"
     ]
    }
   ],
   "source": [
    "data.info()"
   ]
  },
  {
   "cell_type": "code",
   "execution_count": 15,
   "metadata": {},
   "outputs": [],
   "source": [
    "data.to_csv('data/digikala_preprocessed.csv')"
   ]
  },
  {
   "cell_type": "code",
   "execution_count": 100,
   "metadata": {},
   "outputs": [],
   "source": [
    "data = pd.read_csv('data/digikala_preprocessed.csv', on_bad_lines='skip')"
   ]
  },
  {
   "cell_type": "code",
   "execution_count": 101,
   "metadata": {},
   "outputs": [
    {
     "data": {
      "text/plain": [
       "60     503\n",
       "100    492\n",
       "88     266\n",
       "84     260\n",
       "92     236\n",
       "80     225\n",
       "96     199\n",
       "76     167\n",
       "72     161\n",
       "68     158\n",
       "64      86\n",
       "52      78\n",
       "56      77\n",
       "48      66\n",
       "44      42\n",
       "40      41\n",
       "0       37\n",
       "36      36\n",
       "28      24\n",
       "20      23\n",
       "32      18\n",
       "24      17\n",
       "16      13\n",
       "4       10\n",
       "8        8\n",
       "12       8\n",
       "94       5\n",
       "90       2\n",
       "82       1\n",
       "10       1\n",
       "98       1\n",
       "Name: Score, dtype: int64"
      ]
     },
     "execution_count": 101,
     "metadata": {},
     "output_type": "execute_result"
    }
   ],
   "source": [
    "data['Score'].value_counts()"
   ]
  },
  {
   "cell_type": "code",
   "execution_count": 102,
   "metadata": {},
   "outputs": [],
   "source": [
    "def replace_values_with_status(df, column_name):\n",
    "    df[column_name] = df[column_name].apply(lambda value: 'UNSAT' if value <= 40 else 'SAT')\n",
    "    return df\n",
    "\n",
    "data = replace_values_with_status(data, 'Score')"
   ]
  },
  {
   "cell_type": "code",
   "execution_count": 105,
   "metadata": {},
   "outputs": [
    {
     "data": {
      "text/plain": [
       "0       SAT\n",
       "1       SAT\n",
       "2       SAT\n",
       "3       SAT\n",
       "4       SAT\n",
       "       ... \n",
       "3256    SAT\n",
       "3257    SAT\n",
       "3258    SAT\n",
       "3259    SAT\n",
       "3260    SAT\n",
       "Name: Score, Length: 3261, dtype: object"
      ]
     },
     "execution_count": 105,
     "metadata": {},
     "output_type": "execute_result"
    }
   ],
   "source": [
    "data['Score']"
   ]
  },
  {
   "cell_type": "code",
   "execution_count": 106,
   "metadata": {},
   "outputs": [
    {
     "data": {
      "text/plain": [
       "SAT      3025\n",
       "UNSAT     236\n",
       "Name: Score, dtype: int64"
      ]
     },
     "execution_count": 106,
     "metadata": {},
     "output_type": "execute_result"
    }
   ],
   "source": [
    "data['Score'].value_counts()"
   ]
  },
  {
   "cell_type": "code",
   "execution_count": 107,
   "metadata": {
    "scrolled": true
   },
   "outputs": [
    {
     "data": {
      "text/html": [
       "<div>\n",
       "<style scoped>\n",
       "    .dataframe tbody tr th:only-of-type {\n",
       "        vertical-align: middle;\n",
       "    }\n",
       "\n",
       "    .dataframe tbody tr th {\n",
       "        vertical-align: top;\n",
       "    }\n",
       "\n",
       "    .dataframe thead th {\n",
       "        text-align: right;\n",
       "    }\n",
       "</style>\n",
       "<table border=\"1\" class=\"dataframe\">\n",
       "  <thead>\n",
       "    <tr style=\"text-align: right;\">\n",
       "      <th></th>\n",
       "      <th>Unnamed: 0</th>\n",
       "      <th>Text</th>\n",
       "      <th>Score</th>\n",
       "      <th>Suggestion</th>\n",
       "      <th>cleaned</th>\n",
       "    </tr>\n",
       "  </thead>\n",
       "  <tbody>\n",
       "    <tr>\n",
       "      <th>0</th>\n",
       "      <td>0</td>\n",
       "      <td>این اولین تجربه من برای خرید ایفون هست   امروز...</td>\n",
       "      <td>SAT</td>\n",
       "      <td>0</td>\n",
       "      <td>این اولین تجربه من برای خرید ایفون هست امروز ب...</td>\n",
       "    </tr>\n",
       "    <tr>\n",
       "      <th>1</th>\n",
       "      <td>1</td>\n",
       "      <td>خرید این محصول رو توصیه میکنم</td>\n",
       "      <td>SAT</td>\n",
       "      <td>0</td>\n",
       "      <td>خرید این محصول رو توصیه میکنم</td>\n",
       "    </tr>\n",
       "    <tr>\n",
       "      <th>2</th>\n",
       "      <td>2</td>\n",
       "      <td>1 ساله این گوشی رو دارم   هیچ نقطه ضعفی ازش ند...</td>\n",
       "      <td>SAT</td>\n",
       "      <td>0</td>\n",
       "      <td>1 ساله این گوشی رو دارم هیچ نقطه ضعفی ازش ندیدم</td>\n",
       "    </tr>\n",
       "    <tr>\n",
       "      <th>3</th>\n",
       "      <td>3</td>\n",
       "      <td>سلام خدمت دوستان این گوشی از همه نظر عالی  کیف...</td>\n",
       "      <td>SAT</td>\n",
       "      <td>0</td>\n",
       "      <td>سلام خدمت دوستان این گوشی از همه نظر عالی کیفی...</td>\n",
       "    </tr>\n",
       "    <tr>\n",
       "      <th>4</th>\n",
       "      <td>4</td>\n",
       "      <td>سلام دوستانی که نگران شکستن صفحه نمایش هستند ا...</td>\n",
       "      <td>SAT</td>\n",
       "      <td>0</td>\n",
       "      <td>سلام دوستانی که نگران شکستن صفحه نمایش هستند ا...</td>\n",
       "    </tr>\n",
       "  </tbody>\n",
       "</table>\n",
       "</div>"
      ],
      "text/plain": [
       "   Unnamed: 0                                               Text Score  \\\n",
       "0           0  این اولین تجربه من برای خرید ایفون هست   امروز...   SAT   \n",
       "1           1                     خرید این محصول رو توصیه میکنم    SAT   \n",
       "2           2  1 ساله این گوشی رو دارم   هیچ نقطه ضعفی ازش ند...   SAT   \n",
       "3           3  سلام خدمت دوستان این گوشی از همه نظر عالی  کیف...   SAT   \n",
       "4           4  سلام دوستانی که نگران شکستن صفحه نمایش هستند ا...   SAT   \n",
       "\n",
       "   Suggestion                                            cleaned  \n",
       "0           0  این اولین تجربه من برای خرید ایفون هست امروز ب...  \n",
       "1           0                      خرید این محصول رو توصیه میکنم  \n",
       "2           0    1 ساله این گوشی رو دارم هیچ نقطه ضعفی ازش ندیدم  \n",
       "3           0  سلام خدمت دوستان این گوشی از همه نظر عالی کیفی...  \n",
       "4           0  سلام دوستانی که نگران شکستن صفحه نمایش هستند ا...  "
      ]
     },
     "execution_count": 107,
     "metadata": {},
     "output_type": "execute_result"
    }
   ],
   "source": [
    "data.head()"
   ]
  },
  {
   "cell_type": "code",
   "execution_count": 108,
   "metadata": {},
   "outputs": [],
   "source": [
    "def set_suggestion(row):\n",
    "    if row['Score'] == 'UNSAT':\n",
    "        return 1\n",
    "    else:\n",
    "        return 0\n",
    "    \n",
    "data['Suggestion'] = data.apply(set_suggestion, axis=1)"
   ]
  },
  {
   "cell_type": "code",
   "execution_count": 109,
   "metadata": {},
   "outputs": [],
   "source": [
    "data = data.drop('Unnamed: 0', axis=1)"
   ]
  },
  {
   "cell_type": "code",
   "execution_count": 110,
   "metadata": {},
   "outputs": [
    {
     "data": {
      "text/html": [
       "<div>\n",
       "<style scoped>\n",
       "    .dataframe tbody tr th:only-of-type {\n",
       "        vertical-align: middle;\n",
       "    }\n",
       "\n",
       "    .dataframe tbody tr th {\n",
       "        vertical-align: top;\n",
       "    }\n",
       "\n",
       "    .dataframe thead th {\n",
       "        text-align: right;\n",
       "    }\n",
       "</style>\n",
       "<table border=\"1\" class=\"dataframe\">\n",
       "  <thead>\n",
       "    <tr style=\"text-align: right;\">\n",
       "      <th></th>\n",
       "      <th>Text</th>\n",
       "      <th>Score</th>\n",
       "      <th>Suggestion</th>\n",
       "      <th>cleaned</th>\n",
       "    </tr>\n",
       "  </thead>\n",
       "  <tbody>\n",
       "    <tr>\n",
       "      <th>0</th>\n",
       "      <td>این اولین تجربه من برای خرید ایفون هست   امروز...</td>\n",
       "      <td>SAT</td>\n",
       "      <td>0</td>\n",
       "      <td>این اولین تجربه من برای خرید ایفون هست امروز ب...</td>\n",
       "    </tr>\n",
       "    <tr>\n",
       "      <th>1</th>\n",
       "      <td>خرید این محصول رو توصیه میکنم</td>\n",
       "      <td>SAT</td>\n",
       "      <td>0</td>\n",
       "      <td>خرید این محصول رو توصیه میکنم</td>\n",
       "    </tr>\n",
       "    <tr>\n",
       "      <th>2</th>\n",
       "      <td>1 ساله این گوشی رو دارم   هیچ نقطه ضعفی ازش ند...</td>\n",
       "      <td>SAT</td>\n",
       "      <td>0</td>\n",
       "      <td>1 ساله این گوشی رو دارم هیچ نقطه ضعفی ازش ندیدم</td>\n",
       "    </tr>\n",
       "    <tr>\n",
       "      <th>3</th>\n",
       "      <td>سلام خدمت دوستان این گوشی از همه نظر عالی  کیف...</td>\n",
       "      <td>SAT</td>\n",
       "      <td>0</td>\n",
       "      <td>سلام خدمت دوستان این گوشی از همه نظر عالی کیفی...</td>\n",
       "    </tr>\n",
       "    <tr>\n",
       "      <th>4</th>\n",
       "      <td>سلام دوستانی که نگران شکستن صفحه نمایش هستند ا...</td>\n",
       "      <td>SAT</td>\n",
       "      <td>0</td>\n",
       "      <td>سلام دوستانی که نگران شکستن صفحه نمایش هستند ا...</td>\n",
       "    </tr>\n",
       "  </tbody>\n",
       "</table>\n",
       "</div>"
      ],
      "text/plain": [
       "                                                Text Score  Suggestion  \\\n",
       "0  این اولین تجربه من برای خرید ایفون هست   امروز...   SAT           0   \n",
       "1                     خرید این محصول رو توصیه میکنم    SAT           0   \n",
       "2  1 ساله این گوشی رو دارم   هیچ نقطه ضعفی ازش ند...   SAT           0   \n",
       "3  سلام خدمت دوستان این گوشی از همه نظر عالی  کیف...   SAT           0   \n",
       "4  سلام دوستانی که نگران شکستن صفحه نمایش هستند ا...   SAT           0   \n",
       "\n",
       "                                             cleaned  \n",
       "0  این اولین تجربه من برای خرید ایفون هست امروز ب...  \n",
       "1                      خرید این محصول رو توصیه میکنم  \n",
       "2    1 ساله این گوشی رو دارم هیچ نقطه ضعفی ازش ندیدم  \n",
       "3  سلام خدمت دوستان این گوشی از همه نظر عالی کیفی...  \n",
       "4  سلام دوستانی که نگران شکستن صفحه نمایش هستند ا...  "
      ]
     },
     "execution_count": 110,
     "metadata": {},
     "output_type": "execute_result"
    }
   ],
   "source": [
    "data.head()"
   ]
  },
  {
   "cell_type": "code",
   "execution_count": 111,
   "metadata": {
    "colab": {
     "base_uri": "https://localhost:8080/",
     "height": 333
    },
    "id": "vLM1dIDosHBu",
    "outputId": "e867e5a9-3481-4379-dbb5-e7388fa03736"
   },
   "outputs": [],
   "source": [
    "count_vectorizer = CountVectorizer()\n",
    "X_count_vectorized = count_vectorizer.fit_transform(data.cleaned).todense()"
   ]
  },
  {
   "cell_type": "code",
   "execution_count": 112,
   "metadata": {
    "id": "X98jIgq-7LlO"
   },
   "outputs": [],
   "source": [
    "vectorizer = TfidfVectorizer(min_df=2, max_features= 10000)\n",
    "X_tfidf_vectorized = vectorizer.fit_transform(data.cleaned).todense()"
   ]
  },
  {
   "cell_type": "code",
   "execution_count": 113,
   "metadata": {
    "id": "axnht46GsMrE"
   },
   "outputs": [],
   "source": [
    "labels = data['Suggestion'].values"
   ]
  },
  {
   "cell_type": "code",
   "execution_count": 114,
   "metadata": {
    "id": "2nPE3riZsQq9"
   },
   "outputs": [],
   "source": [
    "from sklearn.model_selection import train_test_split\n",
    "X_train, X_test, y_train, y_test = train_test_split(X_count_vectorized, labels, test_size=0.2, random_state=42) "
   ]
  },
  {
   "cell_type": "code",
   "execution_count": 115,
   "metadata": {
    "id": "iM9HDF1g7kOd"
   },
   "outputs": [],
   "source": [
    "X_tfidf_train, X_tfidf_test, y_tfidf_train, y_tfidf_test = train_test_split(X_tfidf_vectorized, labels, test_size=0.2, random_state=42)"
   ]
  },
  {
   "cell_type": "code",
   "execution_count": 116,
   "metadata": {
    "id": "5PbE_h-uw3a3"
   },
   "outputs": [],
   "source": [
    "input_dim = X_tfidf_train.shape"
   ]
  },
  {
   "cell_type": "code",
   "execution_count": 117,
   "metadata": {},
   "outputs": [
    {
     "name": "stdout",
     "output_type": "stream",
     "text": [
      "(2608, 5872)\n"
     ]
    }
   ],
   "source": [
    "print(input_dim)"
   ]
  },
  {
   "cell_type": "code",
   "execution_count": 118,
   "metadata": {
    "colab": {
     "base_uri": "https://localhost:8080/",
     "height": 477
    },
    "id": "MznQEJNexd0T",
    "outputId": "4be72626-51bf-47a9-9a4c-71440477299c"
   },
   "outputs": [
    {
     "name": "stdout",
     "output_type": "stream",
     "text": [
      "Accuracy: 0.9356814701378254\n"
     ]
    }
   ],
   "source": [
    "classifier = LogisticRegression()\n",
    "X_train = np.asarray(X_train)\n",
    "y_train = np.asarray(y_train)\n",
    "X_test = np.asarray(X_test)\n",
    "y_test = np.asarray(y_test)\n",
    "classifier.fit(X_train, y_train)\n",
    "score = classifier.score(X_test, y_test)\n",
    "print(\"Accuracy:\", score)"
   ]
  },
  {
   "cell_type": "code",
   "execution_count": 119,
   "metadata": {
    "colab": {
     "base_uri": "https://localhost:8080/"
    },
    "id": "62mnZSEHUo0d",
    "outputId": "0e1091b5-53b8-4546-fa22-1ba5d72294d5"
   },
   "outputs": [
    {
     "name": "stdout",
     "output_type": "stream",
     "text": [
      "Accuracy: 0.9402756508422665\n"
     ]
    }
   ],
   "source": [
    "clf = LogisticRegression()\n",
    "X_tfidf_train = np.asarray(X_tfidf_train)\n",
    "y_tfidf_train = np.asarray(y_tfidf_train)\n",
    "X_tfidf_test = np.asarray(X_tfidf_test)\n",
    "y_tfidf_test = np.asarray(y_tfidf_test)\n",
    "clf.fit(X_tfidf_train, y_tfidf_train)\n",
    "tfidf_score = clf.score(X_tfidf_test, y_tfidf_test)\n",
    "print(\"Accuracy:\", tfidf_score)"
   ]
  },
  {
   "cell_type": "code",
   "execution_count": 120,
   "metadata": {
    "id": "Oe5GjQr_xe2G"
   },
   "outputs": [],
   "source": [
    "nb_classes = 2\n",
    "batch_size = 32\n",
    "nb_epochs = 10"
   ]
  },
  {
   "cell_type": "code",
   "execution_count": 121,
   "metadata": {},
   "outputs": [],
   "source": [
    "from tensorflow.keras.utils import to_categorical"
   ]
  },
  {
   "cell_type": "code",
   "execution_count": 122,
   "metadata": {
    "id": "0WedYtwM0Cvl"
   },
   "outputs": [],
   "source": [
    "y_tfidf_train_cat = to_categorical(y_tfidf_train,)"
   ]
  },
  {
   "cell_type": "code",
   "execution_count": 123,
   "metadata": {
    "id": "R8uq2mQ6xtTG"
   },
   "outputs": [],
   "source": [
    "model = Sequential()\n",
    "\n",
    "model.add(Dense(1000,input_shape= (input_dim[1],)))\n",
    "model.add(Activation('relu'))\n",
    "model.add(Dropout(0.5))\n",
    "model.add(Dense(500))\n",
    "\n",
    "model.add(Activation('relu'))\n",
    "\n",
    "model.add(Dropout(0.5))\n",
    "\n",
    "model.add(Dense(50))\n",
    "\n",
    "model.add(Activation('relu'))\n",
    "\n",
    "model.add(Dropout(0.5))\n",
    "\n",
    "model.add(Dense(nb_classes))\n",
    "model.add(Activation('softmax'))\n",
    "\n",
    "model.compile(loss='categorical_crossentropy', optimizer='adam')"
   ]
  },
  {
   "cell_type": "code",
   "execution_count": 124,
   "metadata": {
    "id": "M-z2tvGS3hHd"
   },
   "outputs": [],
   "source": [
    "tf.config.run_functions_eagerly(True)"
   ]
  },
  {
   "cell_type": "code",
   "execution_count": 125,
   "metadata": {
    "colab": {
     "base_uri": "https://localhost:8080/"
    },
    "id": "Au7_LegeyEc8",
    "outputId": "46388074-51e5-4c5a-918a-fa050b77d1a9"
   },
   "outputs": [
    {
     "name": "stdout",
     "output_type": "stream",
     "text": [
      "Epoch 1/10\n"
     ]
    },
    {
     "name": "stderr",
     "output_type": "stream",
     "text": [
      "C:\\Users\\Hexa\\AppData\\Local\\Programs\\Python\\Python311\\Lib\\site-packages\\tensorflow\\python\\data\\ops\\structured_function.py:265: UserWarning: Even though the `tf.config.experimental_run_functions_eagerly` option is set, this option does not apply to tf.data functions. To force eager execution of tf.data functions, please use `tf.data.experimental.enable_debug_mode()`.\n",
      "  warnings.warn(\n"
     ]
    },
    {
     "name": "stdout",
     "output_type": "stream",
     "text": [
      "82/82 - 8s - loss: 0.3209 - 8s/epoch - 97ms/step\n",
      "Epoch 2/10\n",
      "82/82 - 8s - loss: 0.1936 - 8s/epoch - 95ms/step\n",
      "Epoch 3/10\n",
      "82/82 - 8s - loss: 0.1316 - 8s/epoch - 94ms/step\n",
      "Epoch 4/10\n",
      "82/82 - 8s - loss: 0.0666 - 8s/epoch - 95ms/step\n",
      "Epoch 5/10\n",
      "82/82 - 8s - loss: 0.0228 - 8s/epoch - 95ms/step\n",
      "Epoch 6/10\n",
      "82/82 - 8s - loss: 0.0059 - 8s/epoch - 93ms/step\n",
      "Epoch 7/10\n",
      "82/82 - 8s - loss: 0.0040 - 8s/epoch - 95ms/step\n",
      "Epoch 8/10\n",
      "82/82 - 8s - loss: 0.0032 - 8s/epoch - 95ms/step\n",
      "Epoch 9/10\n",
      "82/82 - 8s - loss: 0.0015 - 8s/epoch - 94ms/step\n",
      "Epoch 10/10\n",
      "82/82 - 8s - loss: 0.0022 - 8s/epoch - 96ms/step\n"
     ]
    },
    {
     "data": {
      "text/plain": [
       "<keras.src.callbacks.History at 0x22cccfd2b90>"
      ]
     },
     "execution_count": 125,
     "metadata": {},
     "output_type": "execute_result"
    }
   ],
   "source": [
    "model.fit(X_tfidf_train, y_tfidf_train_cat, batch_size=batch_size, epochs=nb_epochs,verbose=2)"
   ]
  },
  {
   "cell_type": "code",
   "execution_count": 126,
   "metadata": {
    "colab": {
     "base_uri": "https://localhost:8080/"
    },
    "id": "9hsVo2k53yaB",
    "outputId": "655caf59-ca6c-4e21-cce2-375b9f52424e"
   },
   "outputs": [
    {
     "name": "stdout",
     "output_type": "stream",
     "text": [
      "21/21 [==============================] - 0s 7ms/step\n",
      "82/82 [==============================] - 1s 7ms/step\n"
     ]
    }
   ],
   "source": [
    "y_test_pred = model.predict(X_tfidf_test)\n",
    "y_test_predclass = np.argmax(y_test_pred, axis=1)\n",
    "y_trian_pred = model.predict(X_tfidf_train)\n",
    "y_train_predclass = np.argmax(y_trian_pred, axis=1)"
   ]
  },
  {
   "cell_type": "code",
   "execution_count": 127,
   "metadata": {
    "colab": {
     "base_uri": "https://localhost:8080/"
    },
    "id": "AwavY-uA4Pks",
    "outputId": "929a071b-03ab-4380-f4d4-c6ec1df053bd"
   },
   "outputs": [
    {
     "name": "stdout",
     "output_type": "stream",
     "text": [
      "nDeep Neural Network - Test accuracy: 92.96\n",
      "nDeep Neural Network - Train accuracy: 99.96000000000001\n"
     ]
    }
   ],
   "source": [
    "from sklearn.metrics import accuracy_score,classification_report\n",
    "print (\"nDeep Neural Network - Test accuracy:\",(round(accuracy_score(y_tfidf_test, y_test_predclass),4)*100))\n",
    "print (\"nDeep Neural Network - Train accuracy:\",(round(accuracy_score(y_tfidf_train, y_train_predclass),4)*100))"
   ]
  },
  {
   "cell_type": "code",
   "execution_count": 128,
   "metadata": {},
   "outputs": [
    {
     "name": "stderr",
     "output_type": "stream",
     "text": [
      "C:\\Users\\Hexa\\AppData\\Local\\Programs\\Python\\Python311\\Lib\\site-packages\\keras\\src\\engine\\training.py:3000: UserWarning: You are saving your model as an HDF5 file via `model.save()`. This file format is considered legacy. We recommend using instead the native Keras format, e.g. `model.save('my_model.keras')`.\n",
      "  saving_api.save_model(\n"
     ]
    }
   ],
   "source": [
    "from tensorflow.keras.models import save_model\n",
    "\n",
    "model.save('model/digikala_keras_model.h5')"
   ]
  },
  {
   "cell_type": "code",
   "execution_count": 139,
   "metadata": {
    "id": "CX9xLlY_WBCI"
   },
   "outputs": [],
   "source": [
    "X_pred = vectorizer.transform([preprocess('اصلا پیشنهاد نمیشود')]).todense()"
   ]
  },
  {
   "cell_type": "code",
   "execution_count": 140,
   "metadata": {
    "colab": {
     "base_uri": "https://localhost:8080/"
    },
    "id": "RoU2n0MNWbXW",
    "outputId": "e0512765-6eb8-4851-e974-543c4130c8bd"
   },
   "outputs": [
    {
     "name": "stdout",
     "output_type": "stream",
     "text": [
      "1/1 [==============================] - 0s 16ms/step\n"
     ]
    },
    {
     "data": {
      "text/plain": [
       "array([[0.47478804, 0.525212  ]], dtype=float32)"
      ]
     },
     "execution_count": 140,
     "metadata": {},
     "output_type": "execute_result"
    }
   ],
   "source": [
    "model.predict(X_pred)"
   ]
  }
 ],
 "metadata": {
  "accelerator": "TPU",
  "colab": {
   "provenance": []
  },
  "gpuClass": "standard",
  "kernelspec": {
   "display_name": "Python 3 (ipykernel)",
   "language": "python",
   "name": "python3"
  },
  "language_info": {
   "codemirror_mode": {
    "name": "ipython",
    "version": 3
   },
   "file_extension": ".py",
   "mimetype": "text/x-python",
   "name": "python",
   "nbconvert_exporter": "python",
   "pygments_lexer": "ipython3",
   "version": "3.11.2"
  }
 },
 "nbformat": 4,
 "nbformat_minor": 1
}
